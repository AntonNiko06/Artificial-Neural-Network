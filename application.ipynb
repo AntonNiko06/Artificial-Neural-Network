{
 "cells": [
  {
   "cell_type": "markdown",
   "id": "23d2991c",
   "metadata": {},
   "source": [
    "# blabla\n"
   ]
  },
  {
   "cell_type": "markdown",
   "id": "2c045bcf",
   "metadata": {},
   "source": [
    "## Data Preparation\n",
    "We'll start by taking a look at how the datasets are structured and checking for missing values."
   ]
  },
  {
   "cell_type": "code",
   "execution_count": 1,
   "id": "a66ccf2d",
   "metadata": {},
   "outputs": [
    {
     "name": "stdout",
     "output_type": "stream",
     "text": [
      "The datasets both have 12 features. These are the following:\n",
      "['fixed acidity', 'volatile acidity', 'citric acid', 'residual sugar', 'chlorides', 'free sulfur dioxide', 'total sulfur dioxide', 'density', 'pH', 'sulphates', 'alcohol', 'quality']\n",
      "\n",
      "The datasets for red and white wine have 1599 and 4898 rows, respectively.\n",
      "\n",
      "Here are some example entries from the white wine dataset:\n",
      "   fixed acidity  volatile acidity  citric acid  residual sugar  chlorides  \\\n",
      "0            7.0              0.27         0.36            20.7      0.045   \n",
      "1            6.3              0.30         0.34             1.6      0.049   \n",
      "2            8.1              0.28         0.40             6.9      0.050   \n",
      "3            7.2              0.23         0.32             8.5      0.058   \n",
      "4            7.2              0.23         0.32             8.5      0.058   \n",
      "\n",
      "   free sulfur dioxide  total sulfur dioxide  density    pH  sulphates  \\\n",
      "0                 45.0                 170.0   1.0010  3.00       0.45   \n",
      "1                 14.0                 132.0   0.9940  3.30       0.49   \n",
      "2                 30.0                  97.0   0.9951  3.26       0.44   \n",
      "3                 47.0                 186.0   0.9956  3.19       0.40   \n",
      "4                 47.0                 186.0   0.9956  3.19       0.40   \n",
      "\n",
      "   alcohol  quality  \n",
      "0      8.8        6  \n",
      "1      9.5        6  \n",
      "2     10.1        6  \n",
      "3      9.9        6  \n",
      "4      9.9        6  \n",
      "\n",
      "The red wine dataset has the following amount of missing values:\n",
      "fixed acidity           0\n",
      "volatile acidity        0\n",
      "citric acid             0\n",
      "residual sugar          0\n",
      "chlorides               0\n",
      "free sulfur dioxide     0\n",
      "total sulfur dioxide    0\n",
      "density                 0\n",
      "pH                      0\n",
      "sulphates               0\n",
      "alcohol                 0\n",
      "quality                 0\n",
      "dtype: int64\n",
      "\n",
      "The white wine dataset has the following amount of missing values:\n",
      "fixed acidity           0\n",
      "volatile acidity        0\n",
      "citric acid             0\n",
      "residual sugar          0\n",
      "chlorides               0\n",
      "free sulfur dioxide     0\n",
      "total sulfur dioxide    0\n",
      "density                 0\n",
      "pH                      0\n",
      "sulphates               0\n",
      "alcohol                 0\n",
      "quality                 0\n",
      "dtype: int64\n"
     ]
    },
    {
     "name": "stderr",
     "output_type": "stream",
     "text": [
      "c:\\Users\\anton\\AppData\\Local\\Programs\\Python\\Python311\\Lib\\site-packages\\numpy\\_core\\fromnumeric.py:84: FutureWarning: The behavior of DataFrame.sum with axis=None is deprecated, in a future version this will reduce over both axes and return a scalar. To retain the old behavior, pass axis=0 (or do not pass axis)\n",
      "  return reduction(axis=axis, out=out, **passkwargs)\n",
      "c:\\Users\\anton\\AppData\\Local\\Programs\\Python\\Python311\\Lib\\site-packages\\numpy\\_core\\fromnumeric.py:84: FutureWarning: The behavior of DataFrame.sum with axis=None is deprecated, in a future version this will reduce over both axes and return a scalar. To retain the old behavior, pass axis=0 (or do not pass axis)\n",
      "  return reduction(axis=axis, out=out, **passkwargs)\n"
     ]
    }
   ],
   "source": [
    "# https://archive.ics.uci.edu/dataset/186/wine+quality\n",
    "\n",
    "import pandas as pd\n",
    "import numpy as np\n",
    "\n",
    "np.set_printoptions(threshold=4)\n",
    "\n",
    "df_red = pd.read_csv(\"data/winequality-red.csv\", sep=\";\")\n",
    "df_white = pd.read_csv(\"data/winequality-white.csv\", sep=\";\")\n",
    "\n",
    "print(f\"The datasets both have {df_red.shape[1]} features. These are the following:\")\n",
    "print(list(df_red.columns))\n",
    "print(f\"\\nThe datasets for red and white wine have {df_red.shape[0]} and {df_white.shape[0]} rows, respectively.\")\n",
    "\n",
    "print(f\"\\nHere are some example entries from the white wine dataset:\\n{df_white.head()}\")\n",
    "\n",
    "print(\"\\nThe red wine dataset has the following amount of missing values:\")\n",
    "print(df_red.shape[0] - np.sum(df_red.notna()))\n",
    "\n",
    "print(\"\\nThe white wine dataset has the following amount of missing values:\")\n",
    "print(df_white.shape[0] - np.sum(df_white.notna()))"
   ]
  },
  {
   "cell_type": "markdown",
   "id": "46eb6d7a",
   "metadata": {},
   "source": [
    "Let's look at the distribution of wine quality of the two datasets."
   ]
  },
  {
   "cell_type": "code",
   "execution_count": 2,
   "id": "de2a3d46",
   "metadata": {},
   "outputs": [
    {
     "data": {
      "image/png": "[encoded data removed]",
      "text/plain": [
       "<Figure size 1200x800 with 1 Axes>"
      ]
     },
     "metadata": {},
     "output_type": "display_data"
    }
   ],
   "source": [
    "import matplotlib.pyplot as plt\n",
    "\n",
    "xy_red = np.unique(df_red[\"quality\"], return_counts=True)\n",
    "xy_white = np.unique(df_white[\"quality\"], return_counts=True)\n",
    "\n",
    "fig = plt.figure(figsize=(12, 8))\n",
    "\n",
    "width = 0.4\n",
    "plt.bar(xy_red[0] - width/2, xy_red[1], width=width, label=\"Red\")\n",
    "plt.bar(xy_white[0] + width/2, xy_white[1], width=width, label=\"White\")\n",
    "\n",
    "plt.xlabel(\"Entry\")\n",
    "plt.ylabel(\"Quality\")\n",
    "plt.title(\"White Wine Quality Distribution\")\n",
    "plt.grid(True)\n",
    "plt.show()"
   ]
  },
  {
   "cell_type": "code",
   "execution_count": 3,
   "id": "58994fe3",
   "metadata": {},
   "outputs": [],
   "source": [
    "from iterations.it1.nn_layerwise import NeuralNetwork as NN_it1\n",
    "from iterations.it2.nn_layerwise import NeuralNetwork as NN_it2"
   ]
  },
  {
   "cell_type": "markdown",
   "id": "2394872f",
   "metadata": {},
   "source": [
    "Now we will normalize our training data by scaling it down and centering it around 0."
   ]
  },
  {
   "cell_type": "code",
   "execution_count": 4,
   "id": "c3cf7976",
   "metadata": {},
   "outputs": [],
   "source": [
    "features = df_white.columns[:-1]\n",
    "target = \"quality\"\n",
    "\n",
    "data_raw = df_white.copy().to_numpy()\n",
    "\n",
    "mean = np.mean(data_raw, axis=0)\n",
    "std = np.std(data_raw, axis=0)\n",
    "\n",
    "data_norm = (data_raw - mean) / std\n",
    "\n",
    "X_norm = data_norm[:, :-1]\n",
    "y_norm = data_norm[:, -1]"
   ]
  },
  {
   "cell_type": "markdown",
   "id": "9cfa07e0",
   "metadata": {},
   "source": [
    "And then we will shuffle it."
   ]
  },
  {
   "cell_type": "code",
   "execution_count": 5,
   "id": "93a4d8c5",
   "metadata": {},
   "outputs": [],
   "source": [
    "num_samples = len(X_norm)\n",
    "\n",
    "rng = np.random.default_rng(seed=101)\n",
    "permutation = np.random.permutation(num_samples)\n",
    "\n",
    "X_shuf = X_norm[permutation]\n",
    "y_shuf = y_norm[permutation]\n"
   ]
  },
  {
   "cell_type": "markdown",
   "id": "46ea4ba1",
   "metadata": {},
   "source": [
    "Finally we can split the data into train, validation and test sets."
   ]
  },
  {
   "cell_type": "code",
   "execution_count": 6,
   "id": "a617d032",
   "metadata": {},
   "outputs": [],
   "source": [
    "train_end = int(num_samples * 0.7)\n",
    "val_end = train_end + int(0.15 * num_samples)\n",
    "\n",
    "X_train = X_shuf[:train_end]\n",
    "y_train = y_shuf[:train_end]\n",
    "\n",
    "X_val = X_shuf[train_end:val_end]\n",
    "y_val = y_shuf[train_end:val_end]\n",
    "\n",
    "X_test = X_shuf[val_end:]\n",
    "y_test = y_shuf[val_end:]"
   ]
  },
  {
   "cell_type": "code",
   "execution_count": 7,
   "id": "fb447f9e",
   "metadata": {},
   "outputs": [],
   "source": [
    "nn = NN_it1([11, 5, 1])\n",
    "\n",
    "nn.train(X=X_train, y=y_train, epochs=0, learning_rate=0.0001, X_val=X_val, y_val=y_val, patience=30, max_epochs=1000, lam=0.05)"
   ]
  },
  {
   "cell_type": "code",
   "execution_count": 8,
   "id": "6a9d01a1",
   "metadata": {},
   "outputs": [
    {
     "name": "stdout",
     "output_type": "stream",
     "text": [
      "[1.35068041 1.30885016 1.25246847 ... 0.76020054 0.76015121 0.76042932]\n"
     ]
    }
   ],
   "source": [
    "print(np.array(nn.loss_history))"
   ]
  }
 ],
 "metadata": {
  "kernelspec": {
   "display_name": "Python 3",
   "language": "python",
   "name": "python3"
  },
  "language_info": {
   "codemirror_mode": {
    "name": "ipython",
    "version": 3
   },
   "file_extension": ".py",
   "mimetype": "text/x-python",
   "name": "python",
   "nbconvert_exporter": "python",
   "pygments_lexer": "ipython3",
   "version": "3.11.4"
  }
 },
 "nbformat": 4,
 "nbformat_minor": 5
}
